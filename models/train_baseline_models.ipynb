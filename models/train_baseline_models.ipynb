{
 "cells": [
  {
   "cell_type": "code",
   "execution_count": 1,
   "metadata": {},
   "outputs": [],
   "source": [
    "from baseline_models import KNNBaselineModel, RFBaselineModel, SVMBaselineModel\n",
    "\n",
    "features = ['all', 'node', 'network']"
   ]
  },
  {
   "cell_type": "code",
   "execution_count": 2,
   "metadata": {},
   "outputs": [
    {
     "name": "stdout",
     "output_type": "stream",
     "text": [
      "\n",
      "Running 100 trials with all features for the K-Nearest Neighbours."
     ]
    },
    {
     "name": "stderr",
     "output_type": "stream",
     "text": [
      "\n",
      "00%|████████████████████████████████████████████████████████████████████████████████████| 100/100 [01:19<00:00,  1.26it/s]"
     ]
    },
    {
     "name": "stdout",
     "output_type": "stream",
     "text": [
      "RF - all\n",
      "\tTrials: 100\n",
      "\tAvg. Accuracy: 0.7531730769230768\n",
      "\tStandard Deviation: 0.019635144856703285\n",
      "\n",
      "Running 100 trials with node features for the K-Nearest Neighbours."
     ]
    },
    {
     "name": "stderr",
     "output_type": "stream",
     "text": [
      "\n",
      "00%|████████████████████████████████████████████████████████████████████████████████████| 100/100 [00:52<00:00,  1.92it/s]"
     ]
    },
    {
     "name": "stdout",
     "output_type": "stream",
     "text": [
      "RF - node\n",
      "\tTrials: 100\n",
      "\tAvg. Accuracy: 0.6879807692307692\n",
      "\tStandard Deviation: 0.025009757300372523\n",
      "\n",
      "Running 100 trials with network features for the K-Nearest Neighbours."
     ]
    },
    {
     "name": "stderr",
     "output_type": "stream",
     "text": [
      "100%|████████████████████████████████████████████████████████████████████████████████████| 100/100 [01:00<00:00,  1.65it/s]"
     ]
    },
    {
     "name": "stdout",
     "output_type": "stream",
     "text": [
      "RF - network\n",
      "\tTrials: 100\n",
      "\tAvg. Accuracy: 0.75\n",
      "\tStandard Deviation: 0.022422156964606033\n"
     ]
    },
    {
     "name": "stderr",
     "output_type": "stream",
     "text": [
      "\n"
     ]
    }
   ],
   "source": [
    "#Random Forest\n",
    "for i in features:\n",
    "    rf = RFBaselineModel(i)\n",
    "    rf.extract_dataset()\n",
    "    rf.run_trials()\n",
    "    rf.print_results()"
   ]
  },
  {
   "cell_type": "code",
   "execution_count": 3,
   "metadata": {},
   "outputs": [
    {
     "name": "stdout",
     "output_type": "stream",
     "text": [
      "\n",
      "Running 100 trials with all features for the Support Vector Machine."
     ]
    },
    {
     "name": "stderr",
     "output_type": "stream",
     "text": [
      "\n",
      "00%|████████████████████████████████████████████████████████████████████████████████████| 100/100 [00:18<00:00,  5.32it/s]"
     ]
    },
    {
     "name": "stdout",
     "output_type": "stream",
     "text": [
      "SVM - all\n",
      "\tTrials: 100\n",
      "\tAvg. Accuracy: 0.6859935897435898\n",
      "\tStandard Deviation: 0.021759279950657184\n",
      "\n",
      "Running 100 trials with node features for the Support Vector Machine."
     ]
    },
    {
     "name": "stderr",
     "output_type": "stream",
     "text": [
      "\n",
      "00%|████████████████████████████████████████████████████████████████████████████████████| 100/100 [00:11<00:00,  8.96it/s]"
     ]
    },
    {
     "name": "stdout",
     "output_type": "stream",
     "text": [
      "SVM - node\n",
      "\tTrials: 100\n",
      "\tAvg. Accuracy: 0.6741666666666667\n",
      "\tStandard Deviation: 0.02402444035529803\n",
      "\n",
      "Running 100 trials with network features for the Support Vector Machine."
     ]
    },
    {
     "name": "stderr",
     "output_type": "stream",
     "text": [
      "\n",
      "00%|████████████████████████████████████████████████████████████████████████████████████| 100/100 [00:09<00:00, 11.06it/s]"
     ]
    },
    {
     "name": "stdout",
     "output_type": "stream",
     "text": [
      "SVM - network\n",
      "\tTrials: 100\n",
      "\tAvg. Accuracy: 0.7637820512820516\n",
      "\tStandard Deviation: 0.02117568802456274\n"
     ]
    }
   ],
   "source": [
    "# Support Vector Machine\n",
    "for i in features:\n",
    "    rf = SVMBaselineModel(i)\n",
    "    rf.extract_dataset()\n",
    "    rf.run_trials()\n",
    "    rf.print_results()"
   ]
  },
  {
   "cell_type": "code",
   "execution_count": 4,
   "metadata": {},
   "outputs": [
    {
     "name": "stdout",
     "output_type": "stream",
     "text": [
      "\n",
      "Running 100 trials with all features for the K-Nearest Neighbours."
     ]
    },
    {
     "name": "stderr",
     "output_type": "stream",
     "text": [
      "\n",
      "00%|████████████████████████████████████████████████████████████████████████████████████| 100/100 [00:08<00:00, 12.09it/s]"
     ]
    },
    {
     "name": "stdout",
     "output_type": "stream",
     "text": [
      "KNN - all\n",
      "\tTrials: 100\n",
      "\tAvg. Accuracy: 0.6239423076923076\n",
      "\tStandard Deviation: 0.02741482760928492\n",
      "\n",
      "Running 100 trials with node features for the K-Nearest Neighbours."
     ]
    },
    {
     "name": "stderr",
     "output_type": "stream",
     "text": [
      "\n",
      "00%|████████████████████████████████████████████████████████████████████████████████████| 100/100 [00:04<00:00, 21.60it/s]"
     ]
    },
    {
     "name": "stdout",
     "output_type": "stream",
     "text": [
      "KNN - node\n",
      "\tTrials: 100\n",
      "\tAvg. Accuracy: 0.6329807692307693\n",
      "\tStandard Deviation: 0.02619393844465936\n",
      "\n",
      "Running 100 trials with network features for the K-Nearest Neighbours."
     ]
    },
    {
     "name": "stderr",
     "output_type": "stream",
     "text": [
      "100%|████████████████████████████████████████████████████████████████████████████████████| 100/100 [00:05<00:00, 19.72it/s]"
     ]
    },
    {
     "name": "stdout",
     "output_type": "stream",
     "text": [
      "KNN - network\n",
      "\tTrials: 100\n",
      "\tAvg. Accuracy: 0.5583333333333333\n",
      "\tStandard Deviation: 0.0180400606147055\n"
     ]
    },
    {
     "name": "stderr",
     "output_type": "stream",
     "text": [
      "\n"
     ]
    }
   ],
   "source": [
    "# K-Nearest Neighbours\n",
    "for i in features:\n",
    "    rf = KNNBaselineModel(i)\n",
    "    rf.extract_dataset()\n",
    "    rf.run_trials()\n",
    "    rf.print_results()"
   ]
  },
  {
   "cell_type": "code",
   "execution_count": null,
   "metadata": {},
   "outputs": [],
   "source": []
  }
 ],
 "metadata": {
  "interpreter": {
   "hash": "4410ce168b863aee9b4918bd897f8b9953e347697e7905a6c1ad714c78ed846f"
  },
  "kernelspec": {
   "display_name": "Python (myenv)",
   "language": "python",
   "name": "myenv"
  },
  "language_info": {
   "codemirror_mode": {
    "name": "ipython",
    "version": 3
   },
   "file_extension": ".py",
   "mimetype": "text/x-python",
   "name": "python",
   "nbconvert_exporter": "python",
   "pygments_lexer": "ipython3",
   "version": "3.9.16"
  }
 },
 "nbformat": 4,
 "nbformat_minor": 4
}
